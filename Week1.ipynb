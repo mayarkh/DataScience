{
 "cells": [
  {
   "attachments": {},
   "cell_type": "markdown",
   "metadata": {},
   "source": [
    "#Week1 \n",
    "\n",
    "1- Datatype\n",
    "\n",
    "2- Expression and variable\n",
    "\n",
    "3- single operations\n",
    "\n",
    "4- Lists and Tuple\n",
    "\n",
    "5- Dictionaries"
   ]
  },
  {
   "attachments": {},
   "cell_type": "markdown",
   "metadata": {},
   "source": [
    "1- DATA TYPE:"
   ]
  },
  {
   "cell_type": "code",
   "execution_count": 1,
   "metadata": {},
   "outputs": [
    {
     "name": "stdout",
     "output_type": "stream",
     "text": [
      "24 \n",
      "the type is <class 'int'>\n",
      "25.66 \n",
      "the type is <class 'float'>\n"
     ]
    }
   ],
   "source": [
    "x= 24 # int \n",
    "y=25.66 # float\n",
    "\n",
    "print(x,\"\\nthe type is\",type(x))\n",
    "print(y,\"\\nthe type is\",type(y))"
   ]
  },
  {
   "cell_type": "code",
   "execution_count": 2,
   "metadata": {},
   "outputs": [
    {
     "name": "stdout",
     "output_type": "stream",
     "text": [
      "Mayar Khaled \n",
      "the type is  <class 'str'>\n"
     ]
    }
   ],
   "source": [
    "M ='Mayar Khaled'\n",
    "print(M,\"\\nthe type is \",type(M))"
   ]
  },
  {
   "cell_type": "code",
   "execution_count": 4,
   "metadata": {},
   "outputs": [
    {
     "name": "stdout",
     "output_type": "stream",
     "text": [
      "[1, 2, 3, 4] \n",
      " the type is <class 'list'>\n",
      "['python', 'HTML', 'java', 'Flutter'] \n",
      " the type is <class 'list'>\n"
     ]
    }
   ],
   "source": [
    "A=[1,2,3,4]\n",
    "Y=[\"python\",\"HTML\",\"java\",\"Flutter\"]\n",
    "print(A,'\\n the type is',type(A))\n",
    "print(Y,'\\n the type is',type(Y))\n",
    "     "
   ]
  },
  {
   "cell_type": "code",
   "execution_count": 6,
   "metadata": {},
   "outputs": [
    {
     "name": "stdout",
     "output_type": "stream",
     "text": [
      "(1, 2, 3, 4) \n",
      " the type is <class 'tuple'>\n",
      "('Flutter', 'HTML', 'visual studio') \n",
      " the type is <class 'tuple'>\n"
     ]
    }
   ],
   "source": [
    "A=(1,2,3,4)\n",
    "R=('Flutter','HTML','visual studio')\n",
    "print(A,'\\n the type is',type(A))\n",
    "print(R,'\\n the type is',type(R))"
   ]
  },
  {
   "cell_type": "code",
   "execution_count": 7,
   "metadata": {},
   "outputs": [
    {
     "name": "stdout",
     "output_type": "stream",
     "text": [
      "is g equal to h:  False\n",
      "is i equal to j:  True\n"
     ]
    }
   ],
   "source": [
    "M=2\n",
    "E=1\n",
    "m=4\n",
    "e=4\n",
    "print('is g equal to h: ',M==E)\n",
    "print('is i equal to j: ',m==e)"
   ]
  },
  {
   "attachments": {},
   "cell_type": "markdown",
   "metadata": {},
   "source": []
  },
  {
   "attachments": {},
   "cell_type": "markdown",
   "metadata": {},
   "source": [
    "2- EXPRESSION AND VARIABLE:"
   ]
  },
  {
   "cell_type": "code",
   "execution_count": 9,
   "metadata": {},
   "outputs": [
    {
     "name": "stdout",
     "output_type": "stream",
     "text": [
      "example one :  11\n",
      "example two :  58\n"
     ]
    }
   ],
   "source": [
    "#m is the variable\n",
    "#that assign value to the variable \n",
    "\n",
    "m = 3\n",
    "#the expression is multiplies m with 3 and we add 5 \n",
    "result=m*2+5\n",
    "print('example one : ',result)\n",
    "\n",
    "a=10\n",
    "y=24\n",
    "result=a+y*2\n",
    "print('example two : ',result)\n"
   ]
  },
  {
   "attachments": {},
   "cell_type": "markdown",
   "metadata": {},
   "source": []
  },
  {
   "attachments": {},
   "cell_type": "markdown",
   "metadata": {},
   "source": [
    "3- SINGLE OPERATIONS:"
   ]
  },
  {
   "cell_type": "code",
   "execution_count": 10,
   "metadata": {},
   "outputs": [
    {
     "name": "stdout",
     "output_type": "stream",
     "text": [
      "here length of m and y :  9 , 28\n"
     ]
    }
   ],
   "source": [
    "#Use functions length.\n",
    "m='Mayar hub'\n",
    "a=len(m)\n",
    "y=len('thanks for joing to myyy hub')\n",
    "print('here length of m and y : ',a,',',y)"
   ]
  },
  {
   "attachments": {},
   "cell_type": "markdown",
   "metadata": {},
   "source": []
  },
  {
   "attachments": {},
   "cell_type": "markdown",
   "metadata": {},
   "source": [
    "4- LIST AND TUPLES:"
   ]
  },
  {
   "cell_type": "code",
   "execution_count": 13,
   "metadata": {},
   "outputs": [
    {
     "name": "stdout",
     "output_type": "stream",
     "text": [
      "Is the list after change :  [1, 2, 'meme', 'Mayar', 'Khaled', 88] \t <class 'list'>\n"
     ]
    }
   ],
   "source": [
    "# 1-list \n",
    "M=[1,2,3,'Mayar','Khaled',88]\n",
    "M[2]='meme'\n",
    "print('Is the list after change : ',M,'\\t',type(M))"
   ]
  },
  {
   "cell_type": "code",
   "execution_count": 14,
   "metadata": {},
   "outputs": [
    {
     "name": "stdout",
     "output_type": "stream",
     "text": [
      "this is the Tuple: (1, 2, 3, 'Mayar', 'Khaled', 88) \t <class 'tuple'>\n"
     ]
    }
   ],
   "source": [
    "# 2- Tuple\n",
    "A=(1,2,3,'Mayar','Khaled',88)\n",
    "print('this is the Tuple:',A,'\\t',type(A))"
   ]
  },
  {
   "attachments": {},
   "cell_type": "markdown",
   "metadata": {},
   "source": []
  },
  {
   "attachments": {},
   "cell_type": "markdown",
   "metadata": {},
   "source": [
    "4- DICTIONARIES:"
   ]
  },
  {
   "cell_type": "code",
   "execution_count": 16,
   "metadata": {},
   "outputs": [
    {
     "name": "stdout",
     "output_type": "stream",
     "text": [
      "example:  {'age': 24, 'job': 'Information System', 'city': 'Mecca'}\n",
      "example {'age': 31, 'job': 'IS ', 'city': 'Mecca'}\n"
     ]
    }
   ],
   "source": [
    "dic_example={\n",
    "    'Mayar':\n",
    "    {\n",
    "    'age':24,\n",
    "    'job':'Information System',\n",
    "    'city':'Mecca'\n",
    "    },\n",
    "\n",
    "    'Fedaa':\n",
    "     {\n",
    "    'age':22,\n",
    "     'job':'IS',\n",
    "     'city':'Mecca'\n",
    "     },\n",
    "\n",
    "    'Lamess':\n",
    "     {\n",
    "    'age':23,\n",
    "     'job':'IS ',\n",
    "     'city':'Mecca'\n",
    "     }    \n",
    "    }\n",
    "\n",
    "print('example: ',dic_example['Mayar'])\n",
    "\n",
    "# if you want to change in any data in the dictionaries \n",
    "dic_example['Lamess']['age']=31\n",
    "\n",
    "print('example',dic_example['Lamess'])"
   ]
  }
 ],
 "metadata": {
  "kernelspec": {
   "display_name": "base",
   "language": "python",
   "name": "python3"
  },
  "language_info": {
   "codemirror_mode": {
    "name": "ipython",
    "version": 3
   },
   "file_extension": ".py",
   "mimetype": "text/x-python",
   "name": "python",
   "nbconvert_exporter": "python",
   "pygments_lexer": "ipython3",
   "version": "3.10.9"
  },
  "orig_nbformat": 4
 },
 "nbformat": 4,
 "nbformat_minor": 2
}
